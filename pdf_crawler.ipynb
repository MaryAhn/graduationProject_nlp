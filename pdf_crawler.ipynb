{
 "cells": [
  {
   "cell_type": "code",
   "execution_count": 2,
   "metadata": {},
   "outputs": [],
   "source": [
    "from pdfminer.pdfinterp import PDFResourceManager, PDFPageInterpreter\n",
    "from pdfminer.converter import TextConverter\n",
    "from pdfminer.layout import LAParams\n",
    "from pdfminer.pdfpage import PDFPage\n",
    "from io import StringIO"
   ]
  },
  {
   "cell_type": "code",
   "execution_count": 3,
   "metadata": {},
   "outputs": [],
   "source": [
    "def convert_pdf_to_txt(path):\n",
    "    rsrcmgr = PDFResourceManager()\n",
    "    retstr = StringIO()\n",
    "    codec = 'utf-8'\n",
    "    laparams = LAParams()\n",
    "    device = TextConverter(rsrcmgr, retstr, laparams=laparams)\n",
    "    fp = open(path, 'rb')\n",
    "    interpreter = PDFPageInterpreter(rsrcmgr, device)\n",
    "    password = \"\"\n",
    "    maxpages = 0\n",
    "    caching = True\n",
    "    pagenos=set()\n",
    "    cnt = 0\n",
    "    \n",
    "    for page in PDFPage.get_pages(fp, pagenos, maxpages=maxpages, password=password,caching=caching, check_extractable=True):\n",
    "        cnt += 1\n",
    "        \n",
    "    pagenos = set(range(1,cnt))\n",
    "\n",
    "    for page in PDFPage.get_pages(fp, pagenos, maxpages=maxpages, password=password,caching=caching, check_extractable=True):\n",
    "        interpreter.process_page(page)\n",
    "        text = retstr.getvalue()\n",
    "\n",
    "    fp.close()\n",
    "    device.close()\n",
    "    retstr.close()\n",
    "    return text"
   ]
  },
  {
   "cell_type": "code",
   "execution_count": 4,
   "metadata": {},
   "outputs": [
    {
     "name": "stdout",
     "output_type": "stream",
     "text": [
      "이화여자대학교 | IP:203.255.***.68 | Accessed 2020/11/18 14:58(KST)\n",
      "\n",
      "스마트폰사용자의해석수준에따른스마트폰자기통제에관한연구AStudyofConstrualLevelandSmartphoneSelf-ControlonSmartPhoneUsers김혜영유승호,HyeYeongGim*,,SeoungHoRyu**요약스마트폰에대한자기통제력은스마트폰중독및문제적이용을극복함에있어중요한역할을한다고볼수있으며해석수준이론에서는성공적인자기통제는해석수준과깊은관련이있음을,(ConstrualLevelTheory,CLT)주장한다따라서본연구는해석수준이론에근거하여개인의해석수준이스마트폰자기통제에영향을미칠수있음.,을실험을통해증명하고자한다이와더불어목표중요성이해석수준에따른스마트폰자기통제의효과를달라지.,게하는가의문제를검증하고스마트폰자기통제연구의확장으로서해석수준과스마트폰중독및성격과의상관관,계도알아보고자한다실험결과상위해석수준으로조작된참가자는하위해석수준을지닌참가자보다스마트폰에대.,하여강한자기통제를보였으며반면에하위해석수준조건의참가자는상위해석수준을지닌참가자보다스마트폰에,대하여약한자기통제를보였다그러나목표중요성과의상호작용효과는나타나지않았으며상위해석수준이하위해.,석수준보다성격에서높은호의성을나타내었다.AbstractThisstudyinvestigatedsmartphoneusers'construallevelandsmartphoneself-control.Inparticular,wefocusedonConstrualLevelTheorywhichexplainshigh-contruallevelfacilitatesone'sself-control.Anexperimentwasconductedtoconfirmthattheusers'construallevelaffectssmartphoneself-controlandwhethergoalimportancemoderatetheeffectofconstruallevelandsmartphoneself-control.Wealsoattempttoexaminerelationshipsamongconstruallevel,smartphoneaddictionandpersonality.Theresultsdemonstratedthathigh-contruallevelparticipantsshowedhighersmartphoneself-controlcomparedwithlowconstruallevelparticipants.Therewas,however,noinfluenceofgoalimportanceontherelationshipbetweenconstruallevelandsmartphoneself-control.Lastly,high-construallevelparticipantsshowedhigheragreeablenessinpersonality.핵심어스마트폰자기통제해석수준이론목표중요성:(Smartphoneself-control),(ConstrualLevelTheory),(Goalimportance)본논문은년도정부재원교육과학기술부사회과학연구지원사업비으로한국연구재단의지원을받아연구되었음2011()(NRF-2011-330-B00107)주저자강원대학교영상문화학과석사과정*:e-mail:hygim@kangwon.ac.kr교신저자강원대학교영상문화학과교수**:e-mail:shryu@kangwon.ac.krHCI 2013 학술대회402\f",
      "이화여자대학교 | IP:203.255.***.68 | Accessed 2020/11/18 14:58(KST)\n",
      "\n",
      "연구배경및목적1.스마트폰시장의급속한확대와더불어스마트폰이용자의수도나날이증가하고있으며현재국내스마트폰가입,자는약만명에달하였다그러나스마트폰이생활3000[1].전면에자리잡음에따라스마트폰중독에대한걱정이커지고있으며최근보고서에따르면스마트폰이용자중스,마트폰중독률을으로나타났다스마트폰중독현8.4%[2].상은인터넷중독이나휴대폰중독에비유하여살펴볼수있는데이러한중독적인이용을가장많이설명해주는요,인으로충동성과자기통제감의상실을지적한다‘’‘’[3][4].따라서스마트폰에대한자기통제력은스마트폰중독및문제적이용을극복함에있어중요한역할을한다고볼수있다.이에최근해석수준이론(ConstrualLevelTheory,CLT)에서는성공적인자기통제는개인의해석수준과깊은관련이있음을주장한다해석수준이론에따르면성공적인[5][7].자기통제는실행가능성이나행동의수단에(feasibility)(how)관심을두고결정을내리는하위해석수준(low-construal이아닌본질적이며바람직성과관련된level),(desirability)속성을보기때문에목표와의관련성에보다집중하게하‘’는상위해석수준이이끌어낼수있(high-construallevel)다는것이다.따라서본연구는해석수준이론에근거하여해석수준이,스마트폰자기통제에영향을미칠수있음을실험을통해증명하고자한다구체적으로는상위해석수준이스마트폰에.대한자기통제력을높일수있을것이며반대로하위해석,수준은자기통제력의약화를보일것이다이와더불어상.,위해석수준에서의자기통제는개인이수행하고있는일이획득하고자하는목표에도움이되는지여부에따라결정된다는연구에근거하여목표중요성이높으면해석수준[7][8],에관계없이스마트폰자기통제를가할것이다이외에스.마트폰자기통제문제는결국스마트폰중독으로귀결되므로스마트폰자기통제연구의확장으로서해석수준과스마,트폰중독그리고성격과의상관관계를보고자한다,.자기통제와해석수준이론2.자기통제란즉각적으로만족할수있지만(self-control),“상대적으로가치가낮은선택과만족은지연되지만향후”“더큰가치를획득할수있는선택이충돌하는상황에서지”연되지만더큰강화물을선택하는것이며반대로지연되지,않은작은강화물을선택하는것은충동성이다해석수준[6].이론은개인의해석수준이자동적인자기통제과정을촉진한다고제안한다해석수준이란개인이가지고있는[5][7].일종의마인드셋으로서동일한대상임에도불구(mind-set),하고심리적거리의멀고가까움에따라해석수준이달라져대상에의접근방식과의사결정에차이가나타나게된다심.리적거리가가까울수록구체적부수적지엽적속성을선,,호하여구체적인방법과관련된표상을하는하위해석(how)수준으로심리적거리가멀어질수록(low-contruallevel),추상적본질적총제적인속성에주목하여행위의목적,,을중요시하는상위수준해석(why)(high-levelconstrual)으로표상을한다[8].따라서상위해석수준은목표지향적이고핵심적인속성을보기때문에자기통제가강하게나타나며반대로비본질적,이고부차적인속성을강조하는하위해석수준은자기통제에실패하게된다따라서자기통제는하위해석수준보다는상.‘’위해석수준에서의사결정을하고행동하는것이며상위해석,수준은즉각적인결과물에대한선호를유의하게감소시키고지연된결과물에대한선호를증가킨다따라서상위하‘’.(위해석수준을지닌참가자는하위상위해석수준을지닌)()참가자보다스마트폰에대하여강한약한자기통제를보일()것이다그러나상위해석수준이라할지라도목표의중요성.에따라자기통제는달라진다따라서(goalimportance)[6].상위하위해석수준이더라도목표에대한중요성이높지않(),으면높으면스마트폰에대하여약한강한자기통제를보()()일것이다.연구방버및절차3.본연구는기존자기통제연구에서사용된실험방법을수정차용하였다실험을위해스마트폰사용자명남[5].58(:․여을모집하였으며참가자들은무작위로상위해석23,:35),수준과하위해석수준으로할당되었다.해석수준조작3.1.상위해석수준과하위해석수준이각각행동의목적(why)과행동의수단에초점을맞춘다는점에서착안하여(how),상위해석수준은왜좋은정신건강을유지해야하는가등의'?'개의질문에하위해석수준은어떻게하면좋은정신건강3,'을유지할수있는가등의개의질문에각각개의답변?'34을작성하도록유도하였다.스마트폰자기통제3.2자기통제를측정하기위해서참가자들에게악력강화에사용하는운동기구인핸드그립을쥐고있게하였(handgrip)다1)참가자들이핸드그립을쥐고있는동안실험보조자는.1)핸드그립을쥐고있는상황은매우불편하고육체적인내를요구하기때문에많은연구에서자기통제측정방법으로사용하,HCI 2013 학술대회403\f",
      "이화여자대학교 | IP:203.255.***.68 | Accessed 2020/11/18 14:58(KST)\n",
      "\n",
      "참가자의스마트폰으로초간격으로회이상의520210∼∼문자메시지를보내어스마트폰자극에노출되게하였다이.때참가자들이핸드그립을쥐고있는시간으로스마트폰자기통제를측정한다.목표중요성스마트폰중독성격정서3.3.,,,목표중요성은학습능력에대한정보를얻는것은나에게“중요하다라는문항에대해점척도로평정하게하였다”9전혀그렇지않다매우그렇다스마트폰중독척(1=‘’,9=‘’).도는인터넷중독테스트(IAT:InternetAddiction를스마트폰중독상황에맞게수정번안하여사Test)[10]·용하였으며성격척도는를사,BFI(BigFiveInventory)[11]용하였다마지막으로본연구의잠재적인영향요인일수.있는정서에대한평가를위해정적정서및부적정서척'도를(thePositiveandNegativeAffectSacles,PANAS)'사용하였다[12].실험절차3.4.실험자는참가자들이실험의본래의도를알아차리지못하도록미디어사용과학습능력에관한정신생리학적인실“험이라는설정된상황을설명하여인식시키고소유하고있”,는스마트폰은꺼내어테이블위에올려두라고권유한다실.험자는실험절차를설명하면서핸드그립을오래쥐고있을,수록보다정확한학습능력에대한정보와피드백을받을수있고이는실험종료후에배포할것이라고하였다실험,.자는참가자의손목과팔부근에에연결된가짜EEG전극을부착한뒤핸드그립을쥐고있게하였다(dummy).핸드그립사이에스펀지를위치시키고스펀지가바닥에떨,어지는시점에서측정을종료하였다이때측정한시간은.해석수준조작의효과와비교하기위한기본능력(baseline)으로사용하였다기본능력측정을종료한뒤약분간의.3휴식을가졌고해석수준조작을실시하였다차측정은,.2기본능력을측정한방식과동일하게진행하였으며다만참,가자들이핸드그립을쥐고있는동안보조실험자는참가자가핸드폰으로무의미한내용의문자메시지를보냈다이.때참가자들이핸드그립을쥐고있는시간으로스마트폰자기통제를측정한다측정종료후참가자들은목표중요성.,,스마트폰사용현황스마트폰중독성격정서인구통계학,,,,적변인이포함된최종질문지를작성하였다.실험결과4.총명의참가자들중스마트폰의전원을차단하였거나58,고있다[9].무음모드로하여문자자극을인식하지못한참가자를제외하고명의데이터만을분석하였다명의참가자들은각44.44각상위해석수준하위해석수준으로점화되었(n=23),(n=21)다.해석수준과스마트폰자기통제4.1.스마트폰자기통제에대한해석수준의영향을알아보기위해를실시하였다악력에대한개인차를고려하여t-test.차측정시간과차측정시간의차이를계산하였으며이차21,이를해석수준의조작으로인한차이로여긴다그결과상.위해석수준으로점화된참가자들은하위해석수준의참가자들보다더욱핸드그립을오래쥐고있었다(t(42)=3.74,구체적으로상위해석수준은기본측정보다평균p<.01).초초더길게잡았으며20.5(SD=37.9)(t(22)=2.6,p<.05,하위해석수준은기본측정보다평균초r=.81),22.5초더짧게잡았다(SD=38.6)(t(20)=2.68,p<.05,r=.65).해석수준의조작전후의보다명확한효과를분석하기위해공분산분석을실시한결과(ANCOVA),F(1,41)=14.1,으로여전히유의미한결과를나타냈다즉p<.01,ƞ²=.26.상위해석수준이하위해석수준참가자들보다유의미하게핸드그립을오래쥐고있었으며따라서높은스마트폰자기통,제를보였다고할수있다마지막으로정적정서를통제.후에도부적정서를통F(1,40)=13.610,p<.01,ƞ²=.254,제한후에도여전히F(1,40)=17.236,p<.001,ƞ²=.301,해석수준과스마트폰자기통제의결과는유의하게나타났다.해석수준목표중요성스마트폰자기통제4.2.,,참가자가인지한목표중요성이해석수준에따른스마트폰자기통제의효과를달라지게하는가의문제를검증하기위해목표중요성과해석수준간의공분산분석를(ANCOVA)실시하였다분석결과해석수준과스마트폰자기통제측정.,은으로상위해석수준일F(1,37)=11.532,p<.01,ƞ²=.238수록스마트폰자기통제가높게나타났고하위해석수준일수,록스마트폰자기통제는낮았다또한목표중요성과스마트.폰자기통제측정에서도유의미한주효과가나타났다F(1,즉목표가중요하게인식될수37)=8.942,p<.01,ƞ²=.195.,록스마트폰자극에도불구하고핸드그립을오래쥐고있었음을알수있다그러나목표중요성과해석수준간의상호작.용효과는통계적으로유의미하게나타나지않았다(F(1,따라서목표에대한중요성37)=1.823,p=.185,ƞ²=.047).은개인의해석수준에따른스마트폰자기통제에영향을미치지못하였다마지막으로스마트폰자기통제에대한정서.의효과는나타나지않았다정적정서(:F(1,37)=.240,부적정서p=.627,ƞ²=.006,:F(1,37)=2.664,p=.111,HCI 2013 학술대회404\f",
      "이화여자대학교 | IP:203.255.***.68 | Accessed 2020/11/18 14:58(KST)\n",
      "\n",
      "ƞ²=.067).해석수준성격스마트폰중독4.3.,,해석수준과성격스마트폰중독간의관계를알아보기,위해로평균을분석한결과성격중호의성에서상t-test,위해석수준이하위해석수준(M=3.49,SD=0.35)(M=3.20,보다호의성이높은것으로나타났다호의성과SD=0.32).해석수준의상관관계분석결과로유의미한r=.403,p<.01정적상관관계가있음을밝히고있다그러나그외외향성.,양심성신경성개방성과는유의미한결과가나타나지않았,,으며스마트폰중독또한개인의해석수준과상관이없는것으로판명되었다.결론5.본연구에서는해석수준이론을중심으로스마트폰사용자의해석수준이스마트폰자기통제에미치는영향에대해실험을통해탐구하였다본연구의주요결과를정리해보면.다음과같다상위해석수준으로조작된참가자는하위해석수.준을지닌참가자보다강한스마트폰자기통제를보였으며,참가자들이목표를중요하게인식할수록스마트폰자극에도불구하고핸드그립을오래쥐고있는것으로나타났다그러.나참가자가인지한목표중요성이해석수준에따른스마트폰자기통제의효과를달라지게하지는않았다마지막으로.상위해석수준이성격요인중호의성과정적상관이있는5것으로나타났으며하위해석수준보다높은호의성을보였,다.본연구의가장큰의의는개인의마인드셋(mind-set)전환을통하여무의식적인스마트폰자기통제의강화를증명한것이다해석수준조작을통한마인드셋전환은개인을.무의식적으로목표중심적바람직성에초점맞추게하며그,결과자기통제를강화시킬수있다또한본연구의결과는.다양한미디어규제에있어새로운시각으로의접근을유도할수있다현재스마트폰을비롯하여다양한미디어과다.사용의우려가팽배하며그때문에미디어규제에대한논,란이많다그러나이러한규제는일시적이며개인의자유권.침해라는지적을받아왔다이에본연구에서증명된해석수.준을통한스마트폰자기통제의강화는개인의해석수준변화를통해미디어사용에있어충분히자율적인자기통제가가능할것임을제안한다.마지막으로상위해석수준을지닌참가자들의호의성이높게나타난결과는향후연구에대한시사점을제공할수있다이전연구들에따르면상위해석수준은일반적으로협조.적인행동과도덕적인판단협력을이끄는것을밝혀졌다,성격요인중호의성이상위해석수준의특징과유사[13].5하게협조적이고친화적이며타인에대한배려를보이기때문에인지적측면만을다루는해석수준에대한대안적설명,으로가능하리라사료된다향후연구에서이에대하여보다.정교하게설명할필요가있는것으로사료된다.참고문헌국민일보스마트폰만명시대[1],2012.10.22.“3000”한국정보화진흥원년인터넷중독실태조[2](2012),<2011사>장혜진휴대폰중독적사용집단청소년들의심[3](2002),\"리적특성자기개념애착자기통제력충동성을중심으:,,로성신여자대학교대학원석사학위논문\",.한주리허경호이동전화중독척도개발및타[4],(2004),\"당성검증한국언론학회\",,48(6),138-165.[5]K.Fujita,Y.Trope,N.Liberman,M.Levin-Sagi(2006),\"ConstrualLevelsandSelf-Control\",JournalofPersonalityandSocialPsychology,90(3),351367.–[6]Kirk,J.M.,&Logue,A.W.(1996),“Self-controlinadulthumans:Effectsofcountingandtiming”,LearningandMotivation,27,1-20.[7]Trope,Y&Liberman,N.(2010),\"Construal-LevelTheoryofPsychologicalDistance\",PsychologicalReview,117(2),440-463.[8]ZacksJeffreyM.andTverskyBarbara(2001),\"EventStructureinPerceptionandConception\",PsychologicalBulletin,127(1),3-21[9]Muraven,M.,Tice,D.M.,&Baumeister,R.F.(1998),\"Self-controlasalimitedresource:Regulatorydepletionpatterns\",JournalofPersonalityandSocialPsychology,74,774789.–[10]YoungK.S.(1998),\"CaughtintheNet:Howtorecognizethesignsofinternetaddictionandawinningstrategyforrecovery\",NewYork:Johnwiley&Sons.[11]John,O.P.,&Srivastava,S.(1999),\"TheBigFivetraittaxonomy:History,measurement,andtheoreticalperspectives\",Handbookofpersonality:Theoryandresearch,2,102-138.이현희김은정이민규한국판정적정서및[12],,(2003),\"부적정소척도타당화연구한국심리학회지임상\".:,22(4),935-946.[13]LawrenceJ.Sanna,KristjenBLundberg,CraigD.ParksandEdwardC.Chang(2010),“Thinkandactglobally,thinkandactlocally:Cooperationdependsonmatchingconstrualtoactionlevelsinsocialdilemmas”,JournalofExperimentalSocialPsychology,46(6),1126-1129.HCI 2013 학술대회405\f",
      "\n"
     ]
    }
   ],
   "source": [
    "extracted_text = convert_pdf_to_txt('/Users/angeonhui/Desktop/2020학년도 2학기/1. 수업/02. 졸업프로젝트 20-2/paper crawling/crawling_pdf/스마트폰 사용자의 해석수준에 따른 스마트폰 자기통제에 관한 연구.pdf')\n",
    "print(extracted_text)"
   ]
  },
  {
   "cell_type": "code",
   "execution_count": 5,
   "metadata": {},
   "outputs": [
    {
     "name": "stdout",
     "output_type": "stream",
     "text": [
      "\n",
      "\n",
      "스마트폰사용자의해석수준에따른스마트폰자기통제에관한연구AStudyofConstrualLevelandSmartphoneSelf-ControlonSmartPhoneUsers김혜영유승호,HyeYeongGim*,,SeoungHoRyu**요약스마트폰에대한자기통제력은스마트폰중독및문제적이용을극복함에있어중요한역할을한다고볼수있으며해석수준이론에서는성공적인자기통제는해석수준과깊은관련이있음을,(ConstrualLevelTheory,CLT)주장한다따라서본연구는해석수준이론에근거하여개인의해석수준이스마트폰자기통제에영향을미칠수있음.,을실험을통해증명하고자한다이와더불어목표중요성이해석수준에따른스마트폰자기통제의효과를달라지.,게하는가의문제를검증하고스마트폰자기통제연구의확장으로서해석수준과스마트폰중독및성격과의상관관,계도알아보고자한다실험결과상위해석수준으로조작된참가자는하위해석수준을지닌참가자보다스마트폰에대.,하여강한자기통제를보였으며반면에하위해석수준조건의참가자는상위해석수준을지닌참가자보다스마트폰에,대하여약한자기통제를보였다그러나목표중요성과의상호작용효과는나타나지않았으며상위해석수준이하위해.,석수준보다성격에서높은호의성을나타내었다.AbstractThisstudyinvestigatedsmartphoneusers'construallevelandsmartphoneself-control.Inparticular,wefocusedonConstrualLevelTheorywhichexplainshigh-contruallevelfacilitatesone'sself-control.Anexperimentwasconductedtoconfirmthattheusers'construallevelaffectssmartphoneself-controlandwhethergoalimportancemoderatetheeffectofconstruallevelandsmartphoneself-control.Wealsoattempttoexaminerelationshipsamongconstruallevel,smartphoneaddictionandpersonality.Theresultsdemonstratedthathigh-contruallevelparticipantsshowedhighersmartphoneself-controlcomparedwithlowconstruallevelparticipants.Therewas,however,noinfluenceofgoalimportanceontherelationshipbetweenconstruallevelandsmartphoneself-control.Lastly,high-construallevelparticipantsshowedhigheragreeablenessinpersonality.핵심어스마트폰자기통제해석수준이론목표중요성:(Smartphoneself-control),(ConstrualLevelTheory),(Goalimportance)본논문은년도정부재원교육과학기술부사회과학연구지원사업비으로한국연구재단의지원을받아연구되었음2011()(NRF-2011-330-B00107)주저자강원대학교영상문화학과석사과정*:e-mail:hygim@kangwon.ac.kr교신저자강원대학교영상문화학과교수**:e-mail:shryu@kangwon.ac.kr402\f",
      "\n",
      "\n",
      "연구배경및목적1.스마트폰시장의급속한확대와더불어스마트폰이용자의수도나날이증가하고있으며현재국내스마트폰가입,자는약만명에달하였다그러나스마트폰이생활3000[1].전면에자리잡음에따라스마트폰중독에대한걱정이커지고있으며최근보고서에따르면스마트폰이용자중스,마트폰중독률을으로나타났다스마트폰중독현8.4%[2].상은인터넷중독이나휴대폰중독에비유하여살펴볼수있는데이러한중독적인이용을가장많이설명해주는요,인으로충동성과자기통제감의상실을지적한다‘’‘’[3][4].따라서스마트폰에대한자기통제력은스마트폰중독및문제적이용을극복함에있어중요한역할을한다고볼수있다.이에최근해석수준이론(ConstrualLevelTheory,CLT)에서는성공적인자기통제는개인의해석수준과깊은관련이있음을주장한다해석수준이론에따르면성공적인[5][7].자기통제는실행가능성이나행동의수단에(feasibility)(how)관심을두고결정을내리는하위해석수준(low-construal이아닌본질적이며바람직성과관련된level),(desirability)속성을보기때문에목표와의관련성에보다집중하게하‘’는상위해석수준이이끌어낼수있(high-construallevel)다는것이다.따라서본연구는해석수준이론에근거하여해석수준이,스마트폰자기통제에영향을미칠수있음을실험을통해증명하고자한다구체적으로는상위해석수준이스마트폰에.대한자기통제력을높일수있을것이며반대로하위해석,수준은자기통제력의약화를보일것이다이와더불어상.,위해석수준에서의자기통제는개인이수행하고있는일이획득하고자하는목표에도움이되는지여부에따라결정된다는연구에근거하여목표중요성이높으면해석수준[7][8],에관계없이스마트폰자기통제를가할것이다이외에스.마트폰자기통제문제는결국스마트폰중독으로귀결되므로스마트폰자기통제연구의확장으로서해석수준과스마,트폰중독그리고성격과의상관관계를보고자한다,.자기통제와해석수준이론2.자기통제란즉각적으로만족할수있지만(self-control),“상대적으로가치가낮은선택과만족은지연되지만향후”“더큰가치를획득할수있는선택이충돌하는상황에서지”연되지만더큰강화물을선택하는것이며반대로지연되지,않은작은강화물을선택하는것은충동성이다해석수준[6].이론은개인의해석수준이자동적인자기통제과정을촉진한다고제안한다해석수준이란개인이가지고있는[5][7].일종의마인드셋으로서동일한대상임에도불구(mind-set),하고심리적거리의멀고가까움에따라해석수준이달라져대상에의접근방식과의사결정에차이가나타나게된다심.리적거리가가까울수록구체적부수적지엽적속성을선,,호하여구체적인방법과관련된표상을하는하위해석(how)수준으로심리적거리가멀어질수록(low-contruallevel),추상적본질적총제적인속성에주목하여행위의목적,,을중요시하는상위수준해석(why)(high-levelconstrual)으로표상을한다[8].따라서상위해석수준은목표지향적이고핵심적인속성을보기때문에자기통제가강하게나타나며반대로비본질적,이고부차적인속성을강조하는하위해석수준은자기통제에실패하게된다따라서자기통제는하위해석수준보다는상.‘’위해석수준에서의사결정을하고행동하는것이며상위해석,수준은즉각적인결과물에대한선호를유의하게감소시키고지연된결과물에대한선호를증가킨다따라서상위하‘’.(위해석수준을지닌참가자는하위상위해석수준을지닌)()참가자보다스마트폰에대하여강한약한자기통제를보일()것이다그러나상위해석수준이라할지라도목표의중요성.에따라자기통제는달라진다따라서(goalimportance)[6].상위하위해석수준이더라도목표에대한중요성이높지않(),으면높으면스마트폰에대하여약한강한자기통제를보()()일것이다.연구방버및절차3.본연구는기존자기통제연구에서사용된실험방법을수정차용하였다실험을위해스마트폰사용자명남[5].58(:․여을모집하였으며참가자들은무작위로상위해석23,:35),수준과하위해석수준으로할당되었다.해석수준조작3.1.상위해석수준과하위해석수준이각각행동의목적(why)과행동의수단에초점을맞춘다는점에서착안하여(how),상위해석수준은왜좋은정신건강을유지해야하는가등의'?'개의질문에하위해석수준은어떻게하면좋은정신건강3,'을유지할수있는가등의개의질문에각각개의답변?'34을작성하도록유도하였다.스마트폰자기통제3.2자기통제를측정하기위해서참가자들에게악력강화에사용하는운동기구인핸드그립을쥐고있게하였(handgrip)다1)참가자들이핸드그립을쥐고있는동안실험보조자는.1)핸드그립을쥐고있는상황은매우불편하고육체적인내를요구하기때문에많은연구에서자기통제측정방법으로사용하,403\f",
      "\n",
      "\n",
      "참가자의스마트폰으로초간격으로회이상의520210∼∼문자메시지를보내어스마트폰자극에노출되게하였다이.때참가자들이핸드그립을쥐고있는시간으로스마트폰자기통제를측정한다.목표중요성스마트폰중독성격정서3.3.,,,목표중요성은학습능력에대한정보를얻는것은나에게“중요하다라는문항에대해점척도로평정하게하였다”9전혀그렇지않다매우그렇다스마트폰중독척(1=‘’,9=‘’).도는인터넷중독테스트(IAT:InternetAddiction를스마트폰중독상황에맞게수정번안하여사Test)[10]·용하였으며성격척도는를사,BFI(BigFiveInventory)[11]용하였다마지막으로본연구의잠재적인영향요인일수.있는정서에대한평가를위해정적정서및부적정서척'도를(thePositiveandNegativeAffectSacles,PANAS)'사용하였다[12].실험절차3.4.실험자는참가자들이실험의본래의도를알아차리지못하도록미디어사용과학습능력에관한정신생리학적인실“험이라는설정된상황을설명하여인식시키고소유하고있”,는스마트폰은꺼내어테이블위에올려두라고권유한다실.험자는실험절차를설명하면서핸드그립을오래쥐고있을,수록보다정확한학습능력에대한정보와피드백을받을수있고이는실험종료후에배포할것이라고하였다실험,.자는참가자의손목과팔부근에에연결된가짜EEG전극을부착한뒤핸드그립을쥐고있게하였다(dummy).핸드그립사이에스펀지를위치시키고스펀지가바닥에떨,어지는시점에서측정을종료하였다이때측정한시간은.해석수준조작의효과와비교하기위한기본능력(baseline)으로사용하였다기본능력측정을종료한뒤약분간의.3휴식을가졌고해석수준조작을실시하였다차측정은,.2기본능력을측정한방식과동일하게진행하였으며다만참,가자들이핸드그립을쥐고있는동안보조실험자는참가자가핸드폰으로무의미한내용의문자메시지를보냈다이.때참가자들이핸드그립을쥐고있는시간으로스마트폰자기통제를측정한다측정종료후참가자들은목표중요성.,,스마트폰사용현황스마트폰중독성격정서인구통계학,,,,적변인이포함된최종질문지를작성하였다.실험결과4.총명의참가자들중스마트폰의전원을차단하였거나58,고있다[9].무음모드로하여문자자극을인식하지못한참가자를제외하고명의데이터만을분석하였다명의참가자들은각44.44각상위해석수준하위해석수준으로점화되었(n=23),(n=21)다.해석수준과스마트폰자기통제4.1.스마트폰자기통제에대한해석수준의영향을알아보기위해를실시하였다악력에대한개인차를고려하여t-test.차측정시간과차측정시간의차이를계산하였으며이차21,이를해석수준의조작으로인한차이로여긴다그결과상.위해석수준으로점화된참가자들은하위해석수준의참가자들보다더욱핸드그립을오래쥐고있었다(t(42)=3.74,구체적으로상위해석수준은기본측정보다평균p<.01).초초더길게잡았으며20.5(SD=37.9)(t(22)=2.6,p<.05,하위해석수준은기본측정보다평균초r=.81),22.5초더짧게잡았다(SD=38.6)(t(20)=2.68,p<.05,r=.65).해석수준의조작전후의보다명확한효과를분석하기위해공분산분석을실시한결과(ANCOVA),F(1,41)=14.1,으로여전히유의미한결과를나타냈다즉p<.01,ƞ²=.26.상위해석수준이하위해석수준참가자들보다유의미하게핸드그립을오래쥐고있었으며따라서높은스마트폰자기통,제를보였다고할수있다마지막으로정적정서를통제.후에도부적정서를통F(1,40)=13.610,p<.01,ƞ²=.254,제한후에도여전히F(1,40)=17.236,p<.001,ƞ²=.301,해석수준과스마트폰자기통제의결과는유의하게나타났다.해석수준목표중요성스마트폰자기통제4.2.,,참가자가인지한목표중요성이해석수준에따른스마트폰자기통제의효과를달라지게하는가의문제를검증하기위해목표중요성과해석수준간의공분산분석를(ANCOVA)실시하였다분석결과해석수준과스마트폰자기통제측정.,은으로상위해석수준일F(1,37)=11.532,p<.01,ƞ²=.238수록스마트폰자기통제가높게나타났고하위해석수준일수,록스마트폰자기통제는낮았다또한목표중요성과스마트.폰자기통제측정에서도유의미한주효과가나타났다F(1,즉목표가중요하게인식될수37)=8.942,p<.01,ƞ²=.195.,록스마트폰자극에도불구하고핸드그립을오래쥐고있었음을알수있다그러나목표중요성과해석수준간의상호작.용효과는통계적으로유의미하게나타나지않았다(F(1,따라서목표에대한중요성37)=1.823,p=.185,ƞ²=.047).은개인의해석수준에따른스마트폰자기통제에영향을미치지못하였다마지막으로스마트폰자기통제에대한정서.의효과는나타나지않았다정적정서(:F(1,37)=.240,부적정서p=.627,ƞ²=.006,:F(1,37)=2.664,p=.111,404\f",
      "\n",
      "\n",
      "ƞ²=.067).해석수준성격스마트폰중독4.3.,,해석수준과성격스마트폰중독간의관계를알아보기,위해로평균을분석한결과성격중호의성에서상t-test,위해석수준이하위해석수준(M=3.49,SD=0.35)(M=3.20,보다호의성이높은것으로나타났다호의성과SD=0.32).해석수준의상관관계분석결과로유의미한r=.403,p<.01정적상관관계가있음을밝히고있다그러나그외외향성.,양심성신경성개방성과는유의미한결과가나타나지않았,,으며스마트폰중독또한개인의해석수준과상관이없는것으로판명되었다.결론5.본연구에서는해석수준이론을중심으로스마트폰사용자의해석수준이스마트폰자기통제에미치는영향에대해실험을통해탐구하였다본연구의주요결과를정리해보면.다음과같다상위해석수준으로조작된참가자는하위해석수.준을지닌참가자보다강한스마트폰자기통제를보였으며,참가자들이목표를중요하게인식할수록스마트폰자극에도불구하고핸드그립을오래쥐고있는것으로나타났다그러.나참가자가인지한목표중요성이해석수준에따른스마트폰자기통제의효과를달라지게하지는않았다마지막으로.상위해석수준이성격요인중호의성과정적상관이있는5것으로나타났으며하위해석수준보다높은호의성을보였,다.본연구의가장큰의의는개인의마인드셋(mind-set)전환을통하여무의식적인스마트폰자기통제의강화를증명한것이다해석수준조작을통한마인드셋전환은개인을.무의식적으로목표중심적바람직성에초점맞추게하며그,결과자기통제를강화시킬수있다또한본연구의결과는.다양한미디어규제에있어새로운시각으로의접근을유도할수있다현재스마트폰을비롯하여다양한미디어과다.사용의우려가팽배하며그때문에미디어규제에대한논,란이많다그러나이러한규제는일시적이며개인의자유권.침해라는지적을받아왔다이에본연구에서증명된해석수.준을통한스마트폰자기통제의강화는개인의해석수준변화를통해미디어사용에있어충분히자율적인자기통제가가능할것임을제안한다.마지막으로상위해석수준을지닌참가자들의호의성이높게나타난결과는향후연구에대한시사점을제공할수있다이전연구들에따르면상위해석수준은일반적으로협조.적인행동과도덕적인판단협력을이끄는것을밝혀졌다,성격요인중호의성이상위해석수준의특징과유사[13].5하게협조적이고친화적이며타인에대한배려를보이기때문에인지적측면만을다루는해석수준에대한대안적설명,으로가능하리라사료된다향후연구에서이에대하여보다.정교하게설명할필요가있는것으로사료된다.참고문헌국민일보스마트폰만명시대[1],2012.10.22.“3000”한국정보화진흥원년인터넷중독실태조[2](2012),<2011사>장혜진휴대폰중독적사용집단청소년들의심[3](2002),\"리적특성자기개념애착자기통제력충동성을중심으:,,로성신여자대학교대학원석사학위논문\",.한주리허경호이동전화중독척도개발및타[4],(2004),\"당성검증한국언론학회\",,48(6),138-165.[5]K.Fujita,Y.Trope,N.Liberman,M.Levin-Sagi(2006),\"ConstrualLevelsandSelf-Control\",JournalofPersonalityandSocialPsychology,90(3),351367.–[6]Kirk,J.M.,&Logue,A.W.(1996),“Self-controlinadulthumans:Effectsofcountingandtiming”,LearningandMotivation,27,1-20.[7]Trope,Y&Liberman,N.(2010),\"Construal-LevelTheoryofPsychologicalDistance\",PsychologicalReview,117(2),440-463.[8]ZacksJeffreyM.andTverskyBarbara(2001),\"EventStructureinPerceptionandConception\",PsychologicalBulletin,127(1),3-21[9]Muraven,M.,Tice,D.M.,&Baumeister,R.F.(1998),\"Self-controlasalimitedresource:Regulatorydepletionpatterns\",JournalofPersonalityandSocialPsychology,74,774789.–[10]YoungK.S.(1998),\"CaughtintheNet:Howtorecognizethesignsofinternetaddictionandawinningstrategyforrecovery\",NewYork:Johnwiley&Sons.[11]John,O.P.,&Srivastava,S.(1999),\"TheBigFivetraittaxonomy:History,measurement,andtheoreticalperspectives\",Handbookofpersonality:Theoryandresearch,2,102-138.이현희김은정이민규한국판정적정서및[12],,(2003),\"부적정소척도타당화연구한국심리학회지임상\".:,22(4),935-946.[13]LawrenceJ.Sanna,KristjenBLundberg,CraigD.ParksandEdwardC.Chang(2010),“Thinkandactglobally,thinkandactlocally:Cooperationdependsonmatchingconstrualtoactionlevelsinsocialdilemmas”,JournalofExperimentalSocialPsychology,46(6),1126-1129.405\f",
      "\n"
     ]
    }
   ],
   "source": [
    "extracted_text = extracted_text.replace('이화여자대학교 | IP:203.255.***.68 | Accessed 2020/11/18 14:58(KST)', '')\n",
    "extracted_text = extracted_text.replace('HCI 2013 학술대회','')\n",
    "# extracted_text = extracted_text.replace('서 론', '서론')\n",
    "\n",
    "# extracted_text = extracted_text.replace('AbstractAbstractAbstractAbstract', 'Abstract')\n",
    "print(extracted_text)"
   ]
  },
  {
   "cell_type": "code",
   "execution_count": 6,
   "metadata": {},
   "outputs": [
    {
     "name": "stdout",
     "output_type": "stream",
     "text": [
      "['\\n\\n스마트폰사용자의해석수준에따른스마트폰자기통제에관한연구AStudyofConstrualLevelandSmartphoneSelf-ControlonSmartPhoneUsers김혜영유승호,HyeYeongGim*,,SeoungHoRyu**', '스마트폰에대한자기통제력은스마트폰중독및문제적이용을극복함에있어중요한역할을한다고볼수있으며해석수준이론에서는성공적인자기통제는해석수준과깊은관련이있음을,(ConstrualLevelTheory,CLT)주장한다따라서본연구는해석수준이론에근거하여개인의해석수준이스마트폰자기통제에영향을미칠수있음.,을실험을통해증명하고자한다이와더불어목표중요성이해석수준에따른스마트폰자기통제의효과를달라지.,게하는가의문제를검증하고스마트폰자기통제연구의확장으로서해석수준과스마트폰중독및성격과의상관관,계도알아보고자한다실험결과상위해석수준으로조작된참가자는하위해석수준을지닌참가자보다스마트폰에대.,하여강한자기통제를보였으며반면에하위해석수준조건의참가자는상위해석수준을지닌참가자보다스마트폰에,대하여약한자기통제를보였다그러나목표중요성과의상호작용효과는나타나지않았으며상위해석수준이하위해.,석수준보다성격에서높은호의성을나타내었다.', \"Thisstudyinvestigatedsmartphoneusers'construallevelandsmartphoneself-control.Inparticular,wefocusedonConstrualLevelTheorywhichexplainshigh-contruallevelfacilitatesone'sself-control.Anexperimentwasconductedtoconfirmthattheusers'construallevelaffectssmartphoneself-controlandwhethergoalimportancemoderatetheeffectofconstruallevelandsmartphoneself-control.Wealsoattempttoexaminerelationshipsamongconstruallevel,smartphoneaddictionandpersonality.Theresultsdemonstratedthathigh-contruallevelparticipantsshowedhighersmartphoneself-controlcomparedwithlowconstruallevelparticipants.Therewas,however,noinfluenceofgoalimportanceontherelationshipbetweenconstruallevelandsmartphoneself-control.Lastly,high-construallevelparticipantsshowedhigheragreeablenessinpersonality.\", '스마트폰자기통제해석수준이론목표중요성:(Smartphoneself-control),(ConstrualLevelTheory),(Goalimportance)본논문은년도정부재원교육과학기술부사회과학연구지원사업비으로한국연구재단의지원을받아연구되었음2011()(NRF-2011-330-B00107)주저자강원대학교영상문화학과석사과정*:e-mail:hygim@kangwon.ac.kr교신저자강원대학교영상문화학과교수**:e-mail:shryu@kangwon.ac.kr402\\x0c\\n\\n', \"1.스마트폰시장의급속한확대와더불어스마트폰이용자의수도나날이증가하고있으며현재국내스마트폰가입,자는약만명에달하였다그러나스마트폰이생활3000[1].전면에자리잡음에따라스마트폰중독에대한걱정이커지고있으며최근보고서에따르면스마트폰이용자중스,마트폰중독률을으로나타났다스마트폰중독현8.4%[2].상은인터넷중독이나휴대폰중독에비유하여살펴볼수있는데이러한중독적인이용을가장많이설명해주는요,인으로충동성과자기통제감의상실을지적한다‘’‘’[3][4].따라서스마트폰에대한자기통제력은스마트폰중독및문제적이용을극복함에있어중요한역할을한다고볼수있다.이에최근해석수준이론(ConstrualLevelTheory,CLT)에서는성공적인자기통제는개인의해석수준과깊은관련이있음을주장한다해석수준이론에따르면성공적인[5][7].자기통제는실행가능성이나행동의수단에(feasibility)(how)관심을두고결정을내리는하위해석수준(low-construal이아닌본질적이며바람직성과관련된level),(desirability)속성을보기때문에목표와의관련성에보다집중하게하‘’는상위해석수준이이끌어낼수있(high-construallevel)다는것이다.따라서본연구는해석수준이론에근거하여해석수준이,스마트폰자기통제에영향을미칠수있음을실험을통해증명하고자한다구체적으로는상위해석수준이스마트폰에.대한자기통제력을높일수있을것이며반대로하위해석,수준은자기통제력의약화를보일것이다이와더불어상.,위해석수준에서의자기통제는개인이수행하고있는일이획득하고자하는목표에도움이되는지여부에따라결정된다는연구에근거하여목표중요성이높으면해석수준[7][8],에관계없이스마트폰자기통제를가할것이다이외에스.마트폰자기통제문제는결국스마트폰중독으로귀결되므로스마트폰자기통제연구의확장으로서해석수준과스마,트폰중독그리고성격과의상관관계를보고자한다,.자기통제와해석수준이론2.자기통제란즉각적으로만족할수있지만(self-control),“상대적으로가치가낮은선택과만족은지연되지만향후”“더큰가치를획득할수있는선택이충돌하는상황에서지”연되지만더큰강화물을선택하는것이며반대로지연되지,않은작은강화물을선택하는것은충동성이다해석수준[6].이론은개인의해석수준이자동적인자기통제과정을촉진한다고제안한다해석수준이란개인이가지고있는[5][7].일종의마인드셋으로서동일한대상임에도불구(mind-set),하고심리적거리의멀고가까움에따라해석수준이달라져대상에의접근방식과의사결정에차이가나타나게된다심.리적거리가가까울수록구체적부수적지엽적속성을선,,호하여구체적인방법과관련된표상을하는하위해석(how)수준으로심리적거리가멀어질수록(low-contruallevel),추상적본질적총제적인속성에주목하여행위의목적,,을중요시하는상위수준해석(why)(high-levelconstrual)으로표상을한다[8].따라서상위해석수준은목표지향적이고핵심적인속성을보기때문에자기통제가강하게나타나며반대로비본질적,이고부차적인속성을강조하는하위해석수준은자기통제에실패하게된다따라서자기통제는하위해석수준보다는상.‘’위해석수준에서의사결정을하고행동하는것이며상위해석,수준은즉각적인결과물에대한선호를유의하게감소시키고지연된결과물에대한선호를증가킨다따라서상위하‘’.(위해석수준을지닌참가자는하위상위해석수준을지닌)()참가자보다스마트폰에대하여강한약한자기통제를보일()것이다그러나상위해석수준이라할지라도목표의중요성.에따라자기통제는달라진다따라서(goalimportance)[6].상위하위해석수준이더라도목표에대한중요성이높지않(),으면높으면스마트폰에대하여약한강한자기통제를보()()일것이다.연구방버및절차3.본연구는기존자기통제연구에서사용된실험방법을수정차용하였다실험을위해스마트폰사용자명남[5].58(:․여을모집하였으며참가자들은무작위로상위해석23,:35),수준과하위해석수준으로할당되었다.해석수준조작3.1.상위해석수준과하위해석수준이각각행동의목적(why)과행동의수단에초점을맞춘다는점에서착안하여(how),상위해석수준은왜좋은정신건강을유지해야하는가등의'?'개의질문에하위해석수준은어떻게하면좋은정신건강3,'을유지할수있는가등의개의질문에각각개의답변?'34을작성하도록유도하였다.스마트폰자기통제3.2자기통제를측정하기위해서참가자들에게악력강화에사용하는운동기구인핸드그립을쥐고있게하였(handgrip)다1)참가자들이핸드그립을쥐고있는동안실험보조자는.1)핸드그립을쥐고있는상황은매우불편하고육체적인내를요구하기때문에많은연구에서자기통제측정방법으로사용하,403\\x0c\\n\\n참가자의스마트폰으로초간격으로회이상의520210∼∼문자메시지를보내어스마트폰자극에노출되게하였다이.때참가자들이핸드그립을쥐고있는시간으로스마트폰자기통제를측정한다.목표중요성스마트폰중독성격정서3.3.,,,목표중요성은학습능력에대한정보를얻는것은나에게“중요하다라는문항에대해점척도로평정하게하였다”9전혀그렇지않다매우그렇다스마트폰중독척(1=‘’,9=‘’).도는인터넷중독테스트(IAT:InternetAddiction를스마트폰중독상황에맞게수정번안하여사Test)[10]·용하였으며성격척도는를사,BFI(BigFiveInventory)[11]용하였다마지막으로본연구의잠재적인영향요인일수.있는정서에대한평가를위해정적정서및부적정서척'도를(thePositiveandNegativeAffectSacles,PANAS)'사용하였다[12].실험절차3.4.실험자는참가자들이실험의본래의도를알아차리지못하도록미디어사용과학습능력에관한정신생리학적인실“험이라는설정된상황을설명하여인식시키고소유하고있”,는스마트폰은꺼내어테이블위에올려두라고권유한다실.험자는실험절차를설명하면서핸드그립을오래쥐고있을,수록보다정확한학습능력에대한정보와피드백을받을수있고이는실험종료후에배포할것이라고하였다실험,.자는참가자의손목과팔부근에에연결된가짜EEG전극을부착한뒤핸드그립을쥐고있게하였다(dummy).핸드그립사이에스펀지를위치시키고스펀지가바닥에떨,어지는시점에서측정을종료하였다이때측정한시간은.해석수준조작의효과와비교하기위한기본능력(baseline)으로사용하였다기본능력측정을종료한뒤약분간의.3휴식을가졌고해석수준조작을실시하였다차측정은,.2기본능력을측정한방식과동일하게진행하였으며다만참,가자들이핸드그립을쥐고있는동안보조실험자는참가자가핸드폰으로무의미한내용의문자메시지를보냈다이.때참가자들이핸드그립을쥐고있는시간으로스마트폰자기통제를측정한다측정종료후참가자들은목표중요성.,,스마트폰사용현황스마트폰중독성격정서인구통계학,,,,적변인이포함된최종질문지를작성하였다.실험결과4.총명의참가자들중스마트폰의전원을차단하였거나58,고있다[9].무음모드로하여문자자극을인식하지못한참가자를제외하고명의데이터만을분석하였다명의참가자들은각44.44각상위해석수준하위해석수준으로점화되었(n=23),(n=21)다.해석수준과스마트폰자기통제4.1.스마트폰자기통제에대한해석수준의영향을알아보기위해를실시하였다악력에대한개인차를고려하여t-test.차측정시간과차측정시간의차이를계산하였으며이차21,이를해석수준의조작으로인한차이로여긴다그결과상.위해석수준으로점화된참가자들은하위해석수준의참가자들보다더욱핸드그립을오래쥐고있었다(t(42)=3.74,구체적으로상위해석수준은기본측정보다평균p<.01).초초더길게잡았으며20.5(SD=37.9)(t(22)=2.6,p<.05,하위해석수준은기본측정보다평균초r=.81),22.5초더짧게잡았다(SD=38.6)(t(20)=2.68,p<.05,r=.65).해석수준의조작전후의보다명확한효과를분석하기위해공분산분석을실시한결과(ANCOVA),F(1,41)=14.1,으로여전히유의미한결과를나타냈다즉p<.01,ƞ²=.26.상위해석수준이하위해석수준참가자들보다유의미하게핸드그립을오래쥐고있었으며따라서높은스마트폰자기통,제를보였다고할수있다마지막으로정적정서를통제.후에도부적정서를통F(1,40)=13.610,p<.01,ƞ²=.254,제한후에도여전히F(1,40)=17.236,p<.001,ƞ²=.301,해석수준과스마트폰자기통제의결과는유의하게나타났다.해석수준목표중요성스마트폰자기통제4.2.,,참가자가인지한목표중요성이해석수준에따른스마트폰자기통제의효과를달라지게하는가의문제를검증하기위해목표중요성과해석수준간의공분산분석를(ANCOVA)실시하였다분석결과해석수준과스마트폰자기통제측정.,은으로상위해석수준일F(1,37)=11.532,p<.01,ƞ²=.238수록스마트폰자기통제가높게나타났고하위해석수준일수,록스마트폰자기통제는낮았다또한목표중요성과스마트.폰자기통제측정에서도유의미한주효과가나타났다F(1,즉목표가중요하게인식될수37)=8.942,p<.01,ƞ²=.195.,록스마트폰자극에도불구하고핸드그립을오래쥐고있었음을알수있다그러나목표중요성과해석수준간의상호작.용효과는통계적으로유의미하게나타나지않았다(F(1,따라서목표에대한중요성37)=1.823,p=.185,ƞ²=.047).은개인의해석수준에따른스마트폰자기통제에영향을미치지못하였다마지막으로스마트폰자기통제에대한정서.의효과는나타나지않았다정적정서(:F(1,37)=.240,부적정서p=.627,ƞ²=.006,:F(1,37)=2.664,p=.111,404\\x0c\\n\\nƞ²=.067).해석수준성격스마트폰중독4.3.,,해석수준과성격스마트폰중독간의관계를알아보기,위해로평균을분석한결과성격중호의성에서상t-test,위해석수준이하위해석수준(M=3.49,SD=0.35)(M=3.20,보다호의성이높은것으로나타났다호의성과SD=0.32).해석수준의상관관계분석결과로유의미한r=.403,p<.01정적상관관계가있음을밝히고있다그러나그외외향성.,양심성신경성개방성과는유의미한결과가나타나지않았,,으며스마트폰중독또한개인의해석수준과상관이없는것으로판명되었다.결론5.본연구에서는해석수준이론을중심으로스마트폰사용자의해석수준이스마트폰자기통제에미치는영향에대해실험을통해탐구하였다본연구의주요결과를정리해보면.다음과같다상위해석수준으로조작된참가자는하위해석수.준을지닌참가자보다강한스마트폰자기통제를보였으며,참가자들이목표를중요하게인식할수록스마트폰자극에도불구하고핸드그립을오래쥐고있는것으로나타났다그러.나참가자가인지한목표중요성이해석수준에따른스마트폰자기통제의효과를달라지게하지는않았다마지막으로.상위해석수준이성격요인중호의성과정적상관이있는5것으로나타났으며하위해석수준보다높은호의성을보였,다.본연구의가장큰의의는개인의마인드셋(mind-set)전환을통하여무의식적인스마트폰자기통제의강화를증명한것이다해석수준조작을통한마인드셋전환은개인을.무의식적으로목표중심적바람직성에초점맞추게하며그,결과자기통제를강화시킬수있다또한본연구의결과는.다양한미디어규제에있어새로운시각으로의접근을유도할수있다현재스마트폰을비롯하여다양한미디어과다.사용의우려가팽배하며그때문에미디어규제에대한논,란이많다그러나이러한규제는일시적이며개인의자유권.침해라는지적을받아왔다이에본연구에서증명된해석수.준을통한스마트폰자기통제의강화는개인의해석수준변화를통해미디어사용에있어충분히자율적인자기통제가가능할것임을제안한다.마지막으로상위해석수준을지닌참가자들의호의성이높게나타난결과는향후연구에대한시사점을제공할수있다이전연구들에따르면상위해석수준은일반적으로협조.적인행동과도덕적인판단협력을이끄는것을밝혀졌다,성격요인중호의성이상위해석수준의특징과유사[13].5하게협조적이고친화적이며타인에대한배려를보이기때문에인지적측면만을다루는해석수준에대한대안적설명,으로가능하리라사료된다향후연구에서이에대하여보다.정교하게설명할필요가있는것으로사료된다.\", '국민일보스마트폰만명시대[1],2012.10.22.“3000”한국정보화진흥원년인터넷중독실태조[2](2012),<2011사>장혜진휴대폰중독적사용집단청소년들의심[3](2002),\"리적특성자기개념애착자기통제력충동성을중심으:,,로성신여자대학교대학원석사학위논문\",.한주리허경호이동전화중독척도개발및타[4],(2004),\"당성검증한국언론학회\",,48(6),138-165.[5]K.Fujita,Y.Trope,N.Liberman,M.Levin-Sagi(2006),\"ConstrualLevelsandSelf-Control\",JournalofPersonalityandSocialPsychology,90(3),351367.–[6]Kirk,J.M.,&Logue,A.W.(1996),“Self-controlinadulthumans:Effectsofcountingandtiming”,LearningandMotivation,27,1-20.[7]Trope,Y&Liberman,N.(2010),\"Construal-LevelTheoryofPsychologicalDistance\",PsychologicalReview,117(2),440-463.[8]ZacksJeffreyM.andTverskyBarbara(2001),\"EventStructureinPerceptionandConception\",PsychologicalBulletin,127(1),3-21[9]Muraven,M.,Tice,D.M.,&Baumeister,R.F.(1998),\"Self-controlasalimitedresource:Regulatorydepletionpatterns\",JournalofPersonalityandSocialPsychology,74,774789.–[10]YoungK.S.(1998),\"CaughtintheNet:Howtorecognizethesignsofinternetaddictionandawinningstrategyforrecovery\",NewYork:Johnwiley&Sons.[11]John,O.P.,&Srivastava,S.(1999),\"TheBigFivetraittaxonomy:History,measurement,andtheoreticalperspectives\",Handbookofpersonality:Theoryandresearch,2,102-138.이현희김은정이민규한국판정적정서및[12],,(2003),\"부적정소척도타당화연구한국심리학회지임상\".:,22(4),935-946.[13]LawrenceJ.Sanna,KristjenBLundberg,CraigD.ParksandEdwardC.Chang(2010),“Thinkandactglobally,thinkandactlocally:Cooperationdependsonmatchingconstrualtoactionlevelsinsocialdilemmas”,JournalofExperimentalSocialPsychology,46(6),1126-1129.405\\x0c']\n"
     ]
    }
   ],
   "source": [
    "import re\n",
    "\n",
    "extracted_sentence = re.split('요약|연구배경및목적|Abstract|핵심어|참고문헌', extracted_text)\n",
    "print(extracted_sentence)"
   ]
  },
  {
   "cell_type": "code",
   "execution_count": 7,
   "metadata": {},
   "outputs": [],
   "source": [
    "text_dic = {}\n",
    "text_dic['information'] = extracted_sentence[0]\n",
    "text_dic['abstract'] = extracted_sentence[1]\n",
    "text_dic['abstract_eng'] = extracted_sentence[2]\n",
    "text_dic['keyword'] = extracted_sentence[3]\n",
    "text_dic['body'] = extracted_sentence[4]"
   ]
  },
  {
   "cell_type": "code",
   "execution_count": 8,
   "metadata": {},
   "outputs": [
    {
     "data": {
      "text/html": [
       "<div>\n",
       "<style scoped>\n",
       "    .dataframe tbody tr th:only-of-type {\n",
       "        vertical-align: middle;\n",
       "    }\n",
       "\n",
       "    .dataframe tbody tr th {\n",
       "        vertical-align: top;\n",
       "    }\n",
       "\n",
       "    .dataframe thead th {\n",
       "        text-align: right;\n",
       "    }\n",
       "</style>\n",
       "<table border=\"1\" class=\"dataframe\">\n",
       "  <thead>\n",
       "    <tr style=\"text-align: right;\">\n",
       "      <th></th>\n",
       "      <th>information</th>\n",
       "      <th>abstract</th>\n",
       "      <th>abstract_eng</th>\n",
       "      <th>keyword</th>\n",
       "      <th>body</th>\n",
       "    </tr>\n",
       "  </thead>\n",
       "  <tbody>\n",
       "    <tr>\n",
       "      <th>0</th>\n",
       "      <td>\\n\\n스마트폰사용자의해석수준에따른스마트폰자기통제에관한연구AStudyofConstr...</td>\n",
       "      <td>스마트폰에대한자기통제력은스마트폰중독및문제적이용을극복함에있어중요한역할을한다고볼수있으며...</td>\n",
       "      <td>Thisstudyinvestigatedsmartphoneusers'construal...</td>\n",
       "      <td>스마트폰자기통제해석수준이론목표중요성:(Smartphoneself-control),(...</td>\n",
       "      <td>1.스마트폰시장의급속한확대와더불어스마트폰이용자의수도나날이증가하고있으며현재국내스마트폰...</td>\n",
       "    </tr>\n",
       "  </tbody>\n",
       "</table>\n",
       "</div>"
      ],
      "text/plain": [
       "                                         information  \\\n",
       "0  \\n\\n스마트폰사용자의해석수준에따른스마트폰자기통제에관한연구AStudyofConstr...   \n",
       "\n",
       "                                            abstract  \\\n",
       "0  스마트폰에대한자기통제력은스마트폰중독및문제적이용을극복함에있어중요한역할을한다고볼수있으며...   \n",
       "\n",
       "                                        abstract_eng  \\\n",
       "0  Thisstudyinvestigatedsmartphoneusers'construal...   \n",
       "\n",
       "                                             keyword  \\\n",
       "0  스마트폰자기통제해석수준이론목표중요성:(Smartphoneself-control),(...   \n",
       "\n",
       "                                                body  \n",
       "0  1.스마트폰시장의급속한확대와더불어스마트폰이용자의수도나날이증가하고있으며현재국내스마트폰...  "
      ]
     },
     "execution_count": 8,
     "metadata": {},
     "output_type": "execute_result"
    }
   ],
   "source": [
    "import pandas as pd\n",
    "\n",
    "paper_df = pd.DataFrame.from_dict([text_dic])\n",
    "paper_df"
   ]
  },
  {
   "cell_type": "code",
   "execution_count": 9,
   "metadata": {},
   "outputs": [],
   "source": [
    "paper_df.to_csv('/Users/angeonhui/Desktop/2020학년도 2학기/1. 수업/02. 졸업프로젝트 20-2/paper crawling/crawled_csv/스마트폰 사용자의 해석수준에 따른 스마트폰 자기통제에 관한 연구.csv')"
   ]
  },
  {
   "cell_type": "code",
   "execution_count": null,
   "metadata": {},
   "outputs": [],
   "source": []
  }
 ],
 "metadata": {
  "kernelspec": {
   "display_name": "Python 3",
   "language": "python",
   "name": "python3"
  },
  "language_info": {
   "codemirror_mode": {
    "name": "ipython",
    "version": 3
   },
   "file_extension": ".py",
   "mimetype": "text/x-python",
   "name": "python",
   "nbconvert_exporter": "python",
   "pygments_lexer": "ipython3",
   "version": "3.8.5"
  }
 },
 "nbformat": 4,
 "nbformat_minor": 4
}
